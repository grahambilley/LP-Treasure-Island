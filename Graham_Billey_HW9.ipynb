{
 "cells": [
  {
   "cell_type": "markdown",
   "metadata": {},
   "source": [
    "## ISyE6669 HW09 - Graham Billey, Spring 2020"
   ]
  },
  {
   "cell_type": "markdown",
   "metadata": {},
   "source": [
    "### 1 The Treasure Island problem\n",
    "\n",
    " Long John Jarvis discovered a vast treasure hidden on a deserted island.  There was an unlimited amount of gold and silver coins, jewel-encrusted plates, and ivory statues, all of which were completely unguarded and could be taken at no risk.  Unfortunately, Long Jong’s ship had been sunk, and he only had a small rowboat to put his treasure.  The rowboat could hold up to 700 pounds of treasure with a volume up to 700 cubic feet.  The following table gives the value, size, and weight of each type of treasure:\n",
    "\n",
    "> | | Unit Value (thousands of dollars) | Size (cubic feet) | Weight (pounds) | \n",
    "| - | - | - | - | \n",
    "| Gold coin | 2 | 4 | 4 |\n",
    "| Silver coin | 1 | 1 | 2 |\n",
    "| Jewel-encrusted plate | 4 | 2 | 1 |\n",
    "| Ivory Statue | 15 | 3 | 5 |\n",
    ">\n",
    "\n",
    "Being a very worldly and intelligent pirate, Long John was familiar with the basic principle sof linear programming.  He came up with the following decision variables $\\large x_1, x_2, x_3, x_4 $ to be the numbers of gold coins, silver coins, jewel-encrusted plates, and ivory statues that he would take. Then, he set up the following LP to decide how much each treasure he should take in order to maximize his wealth.\n",
    ">\n",
    "> $ \\large (P)\\ max \\quad 2x_1 + x_2 + 4x_3 + 15x_4 $\n",
    ">\n",
    "> $ \\large \\quad\\quad s.t. \\quad 4x_1 + x_2 + 2x_3 + 3x_4 \\leq\\ 700 $\n",
    ">\n",
    "> $ \\large \\quad\\quad\\quad\\quad\\quad 4x_1 + 2x_2 + x_3 + 5x_4 \\leq\\ 700 $\n",
    ">\n",
    "> $ \\large \\quad\\quad\\quad\\quad\\quad x_1, x_2, x_3, x_4 \\geq 0. $\n",
    ">\n",
    "\n",
    "Because the rowboat’s limits were merely estimations, Long John was not concerned with restricting his variables to be integers; he could just round up the solution to the nearest integers if necessary.\n",
    "\n",
    "A much more important problem for Long John was that his laptop with Xpress and Matlab was destroyed when his ship was sunk, so he could only solve LPs graphically by drawing on the sand with a stick.  However, since his LP had four variables, it would require a 4-dimensional graph to solve, which was obviously impossible for Long John to draw.\n",
    "\n",
    "Not knowing how to solve his LP, Long John just grabbed as many ivory statues (140 statues) as he could and returned home with a wealth of $2100K. However, as a more advanced student of linear programming than Long John was, you can do better!  Work through the following steps to retrieve more treasure!\n",
    " \n",
    " 1. Form the dual minimization problem of the above LP that Long John came up with.  Think about how to construct the dual by using the logic of finding the best *upper* bound to the primal maximization problem.  Extra credit will be awarded if you can articulate the reasoning similar to the three examples shown in class."
   ]
  },
  {
   "cell_type": "markdown",
   "metadata": {},
   "source": [
    "The original problem can be rewrittren in minimization form as:\n",
    "\n",
    "> $  (P)\\ min \\quad -2x_1 - x_2 - 4x_3 - 15x_4 $\n",
    ">\n",
    "> $  \\quad\\quad s.t. \\quad 4x_1 + x_2 + 2x_3 + 3x_4 \\leq\\ 700 $\n",
    ">\n",
    "> $  \\quad\\quad\\quad\\quad\\quad 4x_1 + 2x_2 + x_3 + 5x_4 \\leq\\ 700 $\n",
    ">\n",
    "> $  \\quad\\quad\\quad\\quad\\quad x_1, x_2, x_3, x_4 \\geq 0. $\n",
    "\n",
    "Thus, the **dual problem in maximization form** is:\n",
    "\n",
    "> $  (P)\\ max \\quad 700 y_1 + 700 y_2 $\n",
    ">\n",
    "> $  \\quad\\quad s.t. \\quad -4y_1 - 4y_2 \\geq\\ 2 $\n",
    ">\n",
    "> $  \\quad\\quad\\quad\\quad\\quad -y_1 - 2y_2 \\geq\\ 1 $\n",
    ">\n",
    "> $  \\quad\\quad\\quad\\quad\\quad -2y_1 - y_2 \\geq\\ 4 $\n",
    ">\n",
    "> $  \\quad\\quad\\quad\\quad\\quad -3y_1 - 5y_2 \\geq\\ 15 $\n",
    ">\n",
    "> $  \\quad\\quad\\quad\\quad\\quad y_1, y_2 \\leq 0. $\n",
    "\n",
    "Thus, the **dual problem in minimization form** is:\n",
    "\n",
    "> $  (P)\\ min \\quad -700 y_1 - 700 y_2 $\n",
    ">\n",
    "> $  \\quad\\quad s.t. \\quad 4y_1 + 4y_2 \\leq\\ -2 $\n",
    ">\n",
    "> $  \\quad\\quad\\quad\\quad\\quad y_1 + 2y_2 \\leq\\ -1 $\n",
    ">\n",
    "> $  \\quad\\quad\\quad\\quad\\quad 2y_1 + y_2 \\leq\\ -4 $\n",
    ">\n",
    "> $  \\quad\\quad\\quad\\quad\\quad 3y_1 + 5y_2 \\leq\\ -15 $\n",
    ">\n",
    "> $  \\quad\\quad\\quad\\quad\\quad y_1, y_2 \\leq 0. $"
   ]
  },
  {
   "cell_type": "markdown",
   "metadata": {},
   "source": [
    "> 2. Draw  the  feasible  region  of  your  dual  problem.   Hopefully  you  don’t  need  a  4-dimensional graph!"
   ]
  },
  {
   "cell_type": "code",
   "execution_count": 1,
   "metadata": {},
   "outputs": [],
   "source": [
    "import numpy as np\n",
    "import matplotlib.pyplot as plt\n"
   ]
  },
  {
   "cell_type": "code",
   "execution_count": 36,
   "metadata": {},
   "outputs": [
    {
     "data": {
      "image/png": "[encoded data removed]",
      "text/plain": [
       "<Figure size 432x288 with 1 Axes>"
      ]
     },
     "metadata": {
      "needs_background": "light"
     },
     "output_type": "display_data"
    }
   ],
   "source": [
    "x = np.linspace(-30, 15, 100)\n",
    "b0 = np.zeros(len(x))\n",
    "b1 = -(1/2)-x\n",
    "b2 =  -(1/2) - (1/2)*x\n",
    "b3 = -4 - 2*x\n",
    "b4 = -3 - (3/5)*x\n",
    "\n",
    "fig, ax = plt.subplots()\n",
    "plt.plot(x, b0)\n",
    "plt.vlines(0, -30,15)\n",
    "plt.plot(x, b1)\n",
    "plt.plot(x, b2)\n",
    "plt.plot(x, b3)\n",
    "plt.plot(x, b4)\n",
    "\n",
    "# Define extreme points to fill\n",
    "x_vals = [-10, -10, -5, -5/7 ,  0,   0]\n",
    "y_vals = [-10,   0,  0, -18/7, -4, -10]\n",
    "\n",
    "plt.fill(x_vals, y_vals)\n",
    "\n",
    "plt.xlim((-10, 5))\n",
    "plt.ylim((-10, 5))\n",
    "plt.xlabel('Y1')\n",
    "plt.ylabel('Y2')\n",
    "ax.set_aspect('equal')\n",
    "ax.grid(True)\n",
    "\n",
    "plt.show()"
   ]
  },
  {
   "cell_type": "markdown",
   "metadata": {},
   "source": [
    "> 3. Point out on the graph the optimal solution of the dual problem.  Find out the numerical values of this optimal dual solution.  Hint: You might need to solve a simple set of linear equations, which you can do by writing on the sand, but no need to run any simplex method."
   ]
  },
  {
   "cell_type": "markdown",
   "metadata": {},
   "source": [
    "Feasible Solutions are:\n",
    "\n",
    "$(y_1, y_2) = (-5, 0) $\n",
    "\n",
    "$(y_1, y_2) = (-5/7, -18/7) $\n",
    "\n",
    "$(y_1, y_2) = (0, -4) $\n",
    "\n",
    "The objective value at each solution is given by:\n",
    "\n",
    "$  (P)\\ min \\quad -700 y_1 - 700 y_2 $\n",
    "\n",
    "Thus, the values at each BFS are respectively:\n",
    "\n",
    "$(y_1, y_2) = (-5, 0) = 3,500 $\n",
    "\n",
    "$(y_1, y_2) = (-5/7, -18/7) = 2,300 $\n",
    "\n",
    "$(y_1, y_2) = (0, -4) = 2,800 $\n",
    "\n",
    "**Thus the optimal point is $(y_1, y_2) = (-5/7, -18/7)$**"
   ]
  },
  {
   "cell_type": "code",
   "execution_count": 43,
   "metadata": {},
   "outputs": [
    {
     "data": {
      "image/png": "[encoded data removed]",
      "text/plain": [
       "<Figure size 432x288 with 1 Axes>"
      ]
     },
     "metadata": {
      "needs_background": "light"
     },
     "output_type": "display_data"
    }
   ],
   "source": [
    "fig, ax = plt.subplots()\n",
    "plt.plot(x, b0)\n",
    "plt.vlines(0, -30,15)\n",
    "plt.plot(x, b1)\n",
    "plt.plot(x, b2)\n",
    "plt.plot(x, b3)\n",
    "plt.plot(x, b4)\n",
    "\n",
    "# Define extreme points to fill\n",
    "x_vals = [-10, -10, -5, -5/7 ,  0,   0]\n",
    "y_vals = [-10,   0,  0, -18/7, -4, -10]\n",
    "\n",
    "plt.fill(x_vals, y_vals)\n",
    "\n",
    "plt.scatter(-5/7, -18/7, c='r', alpha=1, s=500)\n",
    "\n",
    "plt.xlim((-10, 5))\n",
    "plt.ylim((-10, 5))\n",
    "plt.xlabel('Y1')\n",
    "plt.ylabel('Y2')\n",
    "ax.set_aspect('equal')\n",
    "ax.grid(True)\n",
    "\n",
    "plt.show()"
   ]
  },
  {
   "cell_type": "markdown",
   "metadata": {},
   "source": [
    "> 4. What is the optimal objective value of the dual problem? So, how much more wealth can you get than Long John did?  Notice that we haven’t figured out the primal optimal solution yet. So continue."
   ]
  },
  {
   "cell_type": "markdown",
   "metadata": {},
   "source": [
    "**Long John got \\\\$2,100, but we are able to get \\\\$2,300 with a different solution. That is a difference of \\\\$200**"
   ]
  },
  {
   "cell_type": "markdown",
   "metadata": {},
   "source": [
    "> 5. By just looking at the dual problem, decide which primal constraints must be active at the primal optimal solution.  Hint:  Look at which dual optimal variables are nonzero.  Then use the Primal Complementary Slackness."
   ]
  },
  {
   "cell_type": "markdown",
   "metadata": {},
   "source": [
    "The **acive** contratinsts of the dual problem are:\n",
    "\n",
    "> $  \\quad\\quad\\quad\\quad\\quad 2y_1 + y_2 \\leq\\ -4 $\n",
    ">\n",
    "> $  \\quad\\quad\\quad\\quad\\quad 3y_1 + 5y_2 \\leq\\ -15 $\n",
    "\n",
    "These correspond to primal variables $x_3$ and $x_4$. **Therefore $x_3 > 0$ and $x_4 > 0$.**\n"
   ]
  },
  {
   "cell_type": "markdown",
   "metadata": {},
   "source": [
    "> 6. By just looking at the dual problem, decide which primal variables of the optimal primal solution must be zero. Hint: Look at which dual constraints are active, and which are not active at the dual optimal solution. Then, use the Dual Complementary Slackness."
   ]
  },
  {
   "cell_type": "markdown",
   "metadata": {},
   "source": [
    "The **inactive** constraints of the dual problem at the optimal solution are:\n",
    "\n",
    "> $  \\quad\\quad\\quad\\quad\\quad 4y_1 + 4y_2 \\leq\\ -2 $\n",
    ">\n",
    "> $  \\quad\\quad\\quad\\quad\\quad y_1 + 2y_2 \\leq\\ -1 $\n",
    "\n",
    "These correspond to primal variables $x_1$ and $x_2$. **Therefore, $x_1 = 0$ and $x_2 = 0$.**"
   ]
  },
  {
   "cell_type": "markdown",
   "metadata": {},
   "source": [
    "> 7. Now, find out the primal optimal solution. This again you can do by just writing on the sand. You can grab the treasure now!"
   ]
  },
  {
   "cell_type": "markdown",
   "metadata": {},
   "source": [
    "Since $x_1$ and $x_2$ are $0$, the primal system of constraints reduces to:\n",
    "\n",
    "> $  \\quad\\quad\\quad\\quad\\quad 2x_3 + 3x_4 = 700 $\n",
    ">\n",
    "> $  \\quad\\quad\\quad\\quad\\quad  x_3 + 5x_4 = 700 $\n",
    "\n",
    "This has a **solution of $x_3 = 200$ and $x_4 = 100$.**\n"
   ]
  },
  {
   "cell_type": "markdown",
   "metadata": {},
   "source": [
    "## 2 Robust linear programming with budgeted uncertainty sets\n",
    "\n",
    "> A very popular uncertainty set in robust optimization is the so-called *budgeted uncertainty set*. The idea is the following. Consider an uncertain parameter vector $  d = (d_1, . . . , d_n)$ of *n* components. Each parameter *i’s* $ d_i$ is estimated to have a nominal value $ \\bar{d_i} $ and a confidence level $ \\hat{d_i}$. So a simple uncertainty set for $ d_i $ is the interval $ d_i \\in [\\bar{d_i} − \\hat{d_i},\\bar{d_i} + \\hat{d_i}] $.  However, these intervals contain the very worst cases such as all parameters reach the maximum level $ \\bar{d_i} + \\hat{d_i} $ for all *i*, or all parameters reach the minimum level $ \\bar{d_i} − \\hat{d_i} $ for all *i*.  This kind of large deviation from the nominal values may not be very realistic and may make the robust program too conservative. A way to reduce the conservativeness of a robust program is to use the following budgeted uncertainty set\n",
    ">\n",
    "> $$ \\begin{aligned} \\mathcal{D}_{budget} = \\left\\{ d = (d_{1}, \\ldots, d_{n} )\\ : d_{i} \\in [ \\bar{d}_{i}-\\hat{d}_{i}, \\bar{d}_{i}+\\hat{d}_{i} ]\\ \\forall\\ i=1, \\ldots, n, \\quad (1) \\\\ \\sum_{i=1}^{n} \\frac{ \\left|d_{i}-\\bar{d}_{i}\\right| }{ \\hat{d}_{i} } \\leq \\Gamma \\right\\} \\quad (2) \\end{aligned} $$\n",
    ">\n",
    "> In (2), the uncertain parameter vector lives in the box intervals defined in (1), but the total variation of the uncertain parameter vector from its nominal value is restricted by (2), where $ \\Gamma $ is the budget for how much uncertainty is allowed.  In comparison, the box uncertainty set is defined without the budget constraint as\n",
    "> \n",
    "> $$ \\begin{aligned} \\mathcal{D}_{budget} = \\left\\{ d = (d_{1}, \\ldots, d_{n} )\\ : d_{i} \\in [ \\bar{d}_{i}-\\hat{d}_{i}, \\bar{d}_{i}+\\hat{d}_{i} ]\\ \\forall\\ i=1, \\ldots, n, \\quad \\right\\}. \\quad (3) \\end{aligned} $$\n",
    ">\n",
    "> Answer the following questions.\n",
    "> \n",
    "> 1. Show that if $ \\Gamma \\geq n$, then the budgeted uncertainty set $\\mathcal{D}_{budget} $ is equal to the box uncertainty set $\\mathcal{D}_{box} $ defined in (3).  That is, when the budget for uncertainty is very large, the budgeted uncertainty is reduced to the box uncertainty set."
   ]
  },
  {
   "cell_type": "markdown",
   "metadata": {},
   "source": [
    "$\\large \\Gamma \\leq \\sum_{i=1}^{n} \\frac{| d_i - \\bar d_i |}{\\hat d_i}$\n",
    "\n",
    "Each $\\frac{| d_i - \\bar d_i |}{\\hat d_i} \\in (0, 1)$, since $d_i$ is the deviation _relative_ to the maximum deviation. \n",
    "\n",
    "If the relative deviation is equal to the maximum, then $\\frac{| d_i - \\bar d_i |}{\\hat d_i} = 1$ and \n",
    "$d_i \\in [ \\bar d_i - \\hat d_i , \\bar d_i + \\hat d_i ]$. \n",
    "\n",
    "Since each $\\frac{| d_i - \\bar d_i |}{\\hat d_i} = 1$, it follows that $\\Gamma = \\sum_{i=1}^n 1 = n$.\n",
    "\n",
    "Therefore, when $\\Gamma \\geq n$, $\\mathcal{D}_{budget} = \\mathcal{D}_{box} $\n",
    "\n",
    "This makes intuitive sense, since in both the box and budgeted uncertainty sets, the maximum deviations are modeled. However by setting $\\Gamma \\geq n$, we essentially remove the budget constraint altogether."
   ]
  },
  {
   "cell_type": "markdown",
   "metadata": {},
   "source": [
    "> 2. Consider the following robust linear constraint\n",
    "> \n",
    "> $$ \\begin{aligned}  \\sum_{i=1}^{n} d_i x_i \\leq g\\ \\forall\\ (d_1, \\ldots, d_n)\\ \\in\\ \\mathcal{D}_{budget}, \\quad (4) \\end{aligned} $$\n",
    "> \n",
    "> where *g* is a fixed parameter and $ x\\ =\\ (x_1, \\ldots , x_n) $ is the decision variable. Reformulate (4) as deterministic linear constraints."
   ]
  },
  {
   "cell_type": "markdown",
   "metadata": {},
   "source": [
    "The problem can be rwritten as:\n",
    "\n",
    "$\\min_d \\quad d^Tx $\n",
    "\n",
    "$ s.t. \\quad \\sum_i \\frac{|d_i - \\bar d_i|}{\\hat d_i} \\leq \\Gamma $\n",
    "\n",
    "$ \\quad\\quad -d_i \\leq -\\bar d_i + \\hat d_i $\n",
    "\n",
    "$ \\quad\\quad d_i \\leq \\bar d_i + \\hat d_i $"
   ]
  },
  {
   "cell_type": "markdown",
   "metadata": {},
   "source": [
    "**Which becomes:**\n",
    "\n",
    "$\\min_d \\quad d^Tx $\n",
    "\n",
    "$ s.t. \\quad \\sum_i \\frac{w_i}{\\hat d_i} \\leq \\Gamma $\n",
    "\n",
    "$ \\quad\\quad -d_i \\leq -\\bar d_i + \\hat d_i $\n",
    "\n",
    "$ \\quad\\quad d_i \\leq \\bar d_i + \\hat d_i $\n",
    "\n",
    "$ \\quad\\quad -w_i +d_i \\leq \\bar d_i $\n",
    "\n",
    "$ \\quad\\quad -w_i - d_i \\leq -\\bar d_i $"
   ]
  }
 ],
 "metadata": {
  "file_extension": ".py",
  "kernelspec": {
   "display_name": "Python 3",
   "language": "python",
   "name": "python3"
  },
  "language_info": {
   "codemirror_mode": {
    "name": "ipython",
    "version": 3
   },
   "file_extension": ".py",
   "mimetype": "text/x-python",
   "name": "python",
   "nbconvert_exporter": "python",
   "pygments_lexer": "ipython3",
   "version": "3.7.4"
  },
  "mimetype": "text/x-python",
  "name": "python",
  "npconvert_exporter": "python",
  "pygments_lexer": "ipython3",
  "version": 3
 },
 "nbformat": 4,
 "nbformat_minor": 2
}
